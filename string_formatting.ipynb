{
 "cells": [
  {
   "cell_type": "markdown",
   "metadata": {},
   "source": [
    "## Strinformation\n",
    "Mit \"F-Strings\" kann man sehr gute und schöne Tabellen machen"
   ]
  },
  {
   "cell_type": "code",
   "execution_count": 4,
   "metadata": {},
   "outputs": [
    {
     "name": "stdout",
     "output_type": "stream",
     "text": [
      "Der Gewinner ist Thomas, der zweite Platz ist Fabrice und der verlierer ist Ismael.\n"
     ]
    }
   ],
   "source": [
    "name1=\"Thomas\"\n",
    "name2=\"Fabrice\"\n",
    "name3=\"Ismael\"\n",
    "\n",
    "print(f\"Der Gewinner ist {name1}, der zweite Platz ist {name2} und der verlierer ist {name3}.\")"
   ]
  },
  {
   "cell_type": "markdown",
   "metadata": {},
   "source": [
    "In diesem Code wird z.B. die Variabel \"name1\" mit dem Namen \"Thomas\" gleich gesetzt. Wenn ich nun in den print Befehl vor den Anführungsstrichen ein \"f\" setzt erlaubt es mit diese Variabeln in den print Befehl zu setztn ohne, dass ich die Gänsefüsse beenden muss."
   ]
  },
  {
   "cell_type": "code",
   "execution_count": 8,
   "metadata": {},
   "outputs": [
    {
     "name": "stdout",
     "output_type": "stream",
     "text": [
      "Die Kreiszahl beträgt ungefähr 3.14159265358979311600.\n"
     ]
    }
   ],
   "source": [
    "import math\n",
    "print(f'Die Kreiszahl beträgt ungefähr {math.pi:.20f}.')"
   ]
  },
  {
   "cell_type": "markdown",
   "metadata": {},
   "source": [
    "Bei diesem Code wir die \"math\" funktion verwendet, die schon in Python eingebaut ist.\n",
    "Der \"math\" Teil sagt, dass es das Modul math verwenden soll.\n",
    "Das \"pi\" sagt es soll die Kreiszahl Pi verwenden.\n",
    "Das 20f bedeutet, dass ein fixerpunkt bestummen wir an der 20 stelle."
   ]
  },
  {
   "cell_type": "code",
   "execution_count": 9,
   "metadata": {},
   "outputs": [
    {
     "name": "stdout",
     "output_type": "stream",
     "text": [
      "9322   |              Egnach\n",
      "8590   |          Romanshorn\n",
      "8570   |          Weinfelden\n"
     ]
    }
   ],
   "source": [
    "ortschaften = ['Egnach', 'Romanshorn', 'Weinfelden']\n",
    "postleitzahlen = [9322, 8590, 8570]\n",
    " \n",
    "for ort, plz in zip(ortschaften, postleitzahlen):\n",
    "    print(f'{plz:<7}|{ort:>20}')"
   ]
  },
  {
   "cell_type": "markdown",
   "metadata": {},
   "source": [
    "Die Variabeln \"ortschaten\" und \"postleitzahlen\" sind Listen mit den Ortschaften und den Postleitzahlen\n",
    "Die \"for\" funktion macht eine Schleife die über die Listen \"ortschaften\" und \"postleitzahlen\" iteriert.\n",
    "Die Variabeln *ort* und *plz* sind Variabeln die für kurze zeit belegt sind und danach gelöscht werden = *i* oder *e*.\n",
    "Um über die schleifen zu iteriren wird die *zip()* funktion verwendet\n",
    "Danach wird bei jedem durch gang der for-Schleife ein print(f\"\") befehl erzeugt darin werden die *ort* und *plz* Variabeln wieder verwendet."
   ]
  },
  {
   "cell_type": "code",
   "execution_count": 23,
   "metadata": {},
   "outputs": [
    {
     "name": "stdout",
     "output_type": "stream",
     "text": [
      "|Plz       |Ort                 |Befölkerung         |Fläche              |\n",
      "|9322      |Engnach             |4897                |18.43               |\n",
      "|8590      |Romashorn           |11556               |8.43                |\n",
      "|8570      |Weinfelden          |11893               |15.48               |\n"
     ]
    }
   ],
   "source": [
    "postleitzahlen=['9322','8590','8570']\n",
    "ortschaften=['Engnach','Romashorn','Weinfelden']\n",
    "befolkerungen=['4897','11556','11893']\n",
    "flachen=['18.43','8.43','15.48']\n",
    "\n",
    "print(f'|{'Plz':<10}|{'Ort':<20}|{'Befölkerung':<20}|{'Fläche':<20}|')\n",
    "for post, ort, folk, flach in zip(postleitzahlen, ortschaften, befolkerungen, flachen):\n",
    "    print(f'|{post:<10}|{ort:<20}|{folk:<20}|{flach:<20}|')"
   ]
  }
 ],
 "metadata": {
  "kernelspec": {
   "display_name": "Python 3",
   "language": "python",
   "name": "python3"
  },
  "language_info": {
   "codemirror_mode": {
    "name": "ipython",
    "version": 3
   },
   "file_extension": ".py",
   "mimetype": "text/x-python",
   "name": "python",
   "nbconvert_exporter": "python",
   "pygments_lexer": "ipython3",
   "version": "3.12.1"
  }
 },
 "nbformat": 4,
 "nbformat_minor": 2
}
