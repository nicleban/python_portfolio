{
 "cells": [
  {
   "cell_type": "markdown",
   "metadata": {},
   "source": [
    "## Dictionairs\n",
    "Dictionairs sind grundsätzlich Listen aber besser. Sie können einfach viel mehr Informationen halten"
   ]
  },
  {
   "cell_type": "code",
   "execution_count": null,
   "metadata": {},
   "outputs": [],
   "source": [
    "Liste=[{'person':'Moreno',\n",
    "        'alter':14},\n",
    "        {'person':'Aron',\n",
    "         'alter':117}\n",
    "         \n",
    "         ]"
   ]
  },
  {
   "cell_type": "code",
   "execution_count": null,
   "metadata": {},
   "outputs": [],
   "source": [
    "Alter={'Moreno':14, 'Ivo':15, 'Aron':3330}\n",
    "print('Moreno:', Alter['Moreno'],'|','Aron ist:',Alter['Aron'])"
   ]
  },
  {
   "cell_type": "markdown",
   "metadata": {},
   "source": [
    "*Alter* ist der name der Datenbank.\n",
    "Eine Datenbank von Verständnis her ist wie eine Liste.\n",
    "Nur hier können wir einen Wert z.B. *14* einem Schlüssel oder einem Schlüsselwort zuordnen.\n",
    "Das programm versteht nun bei der Verwendung des Schlüssels z.B. *Moreno*, dass der zugehörige wer *14* gemeint ist.\n",
    "Um dies anzuwenden können wir z.B. im print wie bei der Liste zu nächst den Namen der Datenbank mit Eckigen klammern und danach das Schlüsselwort also z.B. *print(Alter['Moreno'])* "
   ]
  },
  {
   "cell_type": "code",
   "execution_count": 20,
   "metadata": {},
   "outputs": [
    {
     "name": "stdout",
     "output_type": "stream",
     "text": [
      "{'person': 'Aron', 'alter': 117}\n",
      "14\n"
     ]
    }
   ],
   "source": [
    "Liste=[{'person':'Moreno','alter':14},{'person':'Aron','alter':117}]\n",
    "\n",
    "print(Liste[1])\n",
    "print(Liste[0]['alter'])"
   ]
  },
  {
   "cell_type": "markdown",
   "metadata": {},
   "source": [
    "*Liste* ist der Name meiner \"Liste\". In meiner Liste definiere ich nun die einzelnen informationen. Sie werden mit *{}* deklariert. Darin kann ich mehrere Informationen schreiben zb das Alter der Person oder sein Name."
   ]
  },
  {
   "cell_type": "code",
   "execution_count": 1,
   "metadata": {},
   "outputs": [
    {
     "name": "stdout",
     "output_type": "stream",
     "text": [
      "Aron\n",
      "Moreno\n",
      "Aron\n"
     ]
    }
   ],
   "source": [
    "Liste=[{'person':'Moreno','alter':14},{'person':'Aron','alter':117}]\n",
    "\n",
    "i=Liste[1]\n",
    "print(i['person'])\n",
    "\n",
    "for i in Liste:\n",
    "    print(i['person'])"
   ]
  },
  {
   "cell_type": "markdown",
   "metadata": {},
   "source": [
    "Hier habe ich wieder meine Liste. Ich werde nun mit einer for-Schleife auf die Liste zugreifen. Sie greift nun auf jedes Element zu. In diesem Beispiel sind es zwei. Danach wird das noch gedruckt."
   ]
  },
  {
   "cell_type": "markdown",
   "metadata": {},
   "source": [
    "## JSON\n",
    "Mit Jason kann man Daten gut herum schicken. Es erlaubt mir Daten einzulesen oder hoch zuladen"
   ]
  },
  {
   "cell_type": "code",
   "execution_count": 26,
   "metadata": {},
   "outputs": [],
   "source": [
    "import json\n",
    "\n",
    "Liste=[{'person':'Moreno','alter':14},{'person':'Aron','alter':117}]\n",
    "\n",
    "with open('Liste.json','w') as xyz:\n",
    "    json.dump(Liste, xyz)\n"
   ]
  },
  {
   "cell_type": "markdown",
   "metadata": {},
   "source": [
    "Zu nächst muss ich den JSON holen darum importiere ich ihn. Danach Mache ich meine Liste, die ich danach als eine JSON file speichern will. Danach formen wir die Datein. Wichtig hier ist das *'Liste.json'* was der name unserer Datei sein wird. Das *'w'* bedeutet write und es sagt aus dass eine Datei erstellt wird. Das Gegenteil wäre *'r'* für read. Danach werden wir mit *json.dump()* unsere Datei final erstellen. Wir müssen hier nur noch angeben zuerst welche liste wir in der Datei haben wollen und danach den Dateiobjekt."
   ]
  },
  {
   "cell_type": "code",
   "execution_count": 1,
   "metadata": {},
   "outputs": [
    {
     "name": "stdout",
     "output_type": "stream",
     "text": [
      "[{'person': 'Moreno', 'alter': 14}, {'person': 'Aron', 'alter': 117}]\n"
     ]
    }
   ],
   "source": [
    "import json\n",
    "\n",
    "with open('Liste.json','r') as xyz:\n",
    "    bitte_datei_offnen=json.load(xyz)\n",
    "print(bitte_datei_offnen)\n"
   ]
  },
  {
   "cell_type": "markdown",
   "metadata": {},
   "source": [
    "Hier lesen wir eine Datei ein. Zunächst sagen wir dem Program, welche Datei geöffnet werden soll und dass er sie ein lesen soll. Danach sagen wir eine Variabel und dass er bitte die Datei laden soll. Schlussendlich drucken wir noch die Varibel die wir definiert haben. "
   ]
  },
  {
   "cell_type": "markdown",
   "metadata": {},
   "source": [
    "mit *with open *('data/Liste.json')* kann man den Pfad angeben in dem Fall aus dem Ordner Data"
   ]
  }
 ],
 "metadata": {
  "kernelspec": {
   "display_name": "Python 3",
   "language": "python",
   "name": "python3"
  },
  "language_info": {
   "codemirror_mode": {
    "name": "ipython",
    "version": 3
   },
   "file_extension": ".py",
   "mimetype": "text/x-python",
   "name": "python",
   "nbconvert_exporter": "python",
   "pygments_lexer": "ipython3",
   "version": "3.12.1"
  }
 },
 "nbformat": 4,
 "nbformat_minor": 2
}
