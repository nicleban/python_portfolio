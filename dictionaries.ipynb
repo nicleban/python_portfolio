{
 "cells": [
  {
   "cell_type": "code",
   "execution_count": 4,
   "metadata": {},
   "outputs": [
    {
     "name": "stdout",
     "output_type": "stream",
     "text": [
      "Moreno: 14 | Aron ist: 3330\n"
     ]
    }
   ],
   "source": [
    "Alter={'Moreno':14, 'Ivo':15, 'Aron':3330}\n",
    "print('Moreno:', Alter['Moreno'],'|','Aron ist:',Alter['Aron'])"
   ]
  },
  {
   "cell_type": "markdown",
   "metadata": {},
   "source": [
    "*Alter* ist der name der Datenbank.\n",
    "Eine Datenbank von Verständnis her wie eine Liste.\n",
    "Nur hier können wir einen Wert z.B. *14* einem Schlüssel oder einem Schlüsselwort zuordnen.\n",
    "Das programm versteht nun bei der Verwendung des Schlüssels z.B. *Moreno*, dass der zugehörige wer *14* gemeint ist.\n",
    "Um dies anzuwenden können wir z.B. im print wie bei der Liste zu nächst den Namen der Datenbank mit Eckigen klammern und danach das Schlüsselwort also z.B. *print(Alter['Moreno'])* \n"
   ]
  }
 ],
 "metadata": {
  "kernelspec": {
   "display_name": "Python 3",
   "language": "python",
   "name": "python3"
  },
  "language_info": {
   "codemirror_mode": {
    "name": "ipython",
    "version": 3
   },
   "file_extension": ".py",
   "mimetype": "text/x-python",
   "name": "python",
   "nbconvert_exporter": "python",
   "pygments_lexer": "ipython3",
   "version": "3.12.1"
  }
 },
 "nbformat": 4,
 "nbformat_minor": 2
}
