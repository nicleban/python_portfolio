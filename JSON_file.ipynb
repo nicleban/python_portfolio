{
 "cells": [
  {
   "cell_type": "code",
   "execution_count": null,
   "metadata": {},
   "outputs": [],
   "source": [
    "data=[['Schokolade',\n",
    "       'Bananen',\n",
    "       'äpfel',\n",
    "       'Tomaten',\n",
    "       'Kartofeln']\n",
    "       ]\n"
   ]
  },
  {
   "cell_type": "code",
   "execution_count": 12,
   "metadata": {},
   "outputs": [
    {
     "name": "stdout",
     "output_type": "stream",
     "text": [
      "{'item': 'tomaten', 'amout': 1}\n",
      "tomaten\n",
      "{'item': 'Kartofeln', 'amout': 1, 'type': 'vegetables'}\n",
      "{'item': 'tomaten', 'amout': 1}\n",
      "{'item': 'äpfel', 'amout': 1}\n",
      "{'item': 'Banane', 'amout': 1}\n",
      "{'item': 'Schokolade', 'amout': 1}\n",
      "Kartofeln\n",
      "tomaten\n",
      "äpfel\n",
      "Banane\n",
      "Schokolade\n"
     ]
    }
   ],
   "source": [
    "        #key : Value\n",
    "data=[{'item':'Kartofeln',\n",
    "       'amout':1,\n",
    "       'type':'vegetables'},\n",
    "       {'item':'tomaten',\n",
    "       'amout':1},\n",
    "       {'item':'äpfel',\n",
    "       'amout':1},\n",
    "       {'item':'Banane',\n",
    "       'amout':1},\n",
    "       {'item':'Schokolade',\n",
    "       'amout':1},\n",
    "       ]\n",
    "element=data[1]\n",
    "print(element)\n",
    "print(element['item'])\n",
    "for i in range(len(data)):\n",
    "    print(data[i])\n",
    "\n",
    "for i in data:\n",
    "    print(i['item']) #jedes item wir aufgeführt\n",
    "\n"
   ]
  },
  {
   "cell_type": "markdown",
   "metadata": {},
   "source": [
    "Daten erstellen"
   ]
  },
  {
   "cell_type": "code",
   "execution_count": 29,
   "metadata": {},
   "outputs": [],
   "source": [
    "import json\n",
    "#w für write, r für read\n",
    "with open('meine_liste.json','w') as xyz:\n",
    "    json.dump(data,xyz )"
   ]
  },
  {
   "cell_type": "markdown",
   "metadata": {},
   "source": [
    "Jason notebook erstellen"
   ]
  },
  {
   "cell_type": "code",
   "execution_count": 31,
   "metadata": {},
   "outputs": [
    {
     "data": {
      "text/plain": [
       "[{'item': 'Kartofeln', 'amout': 1, 'type': 'vegetables'},\n",
       " {'item': 'tomaten', 'amout': 1},\n",
       " {'item': 'äpfel', 'amout': 1},\n",
       " {'item': 'Banane', 'amout': 1},\n",
       " {'item': 'Schokolade', 'amout': 1}]"
      ]
     },
     "metadata": {},
     "output_type": "display_data"
    }
   ],
   "source": [
    "import json\n",
    "#w für write, r für read\n",
    "with open('meine_liste.json','r') as xyz:\n",
    "    data_new=json.load(xyz)\n",
    "display(data_new)"
   ]
  },
  {
   "cell_type": "markdown",
   "metadata": {},
   "source": [
    "Jasen notebook einlesen\n"
   ]
  },
  {
   "cell_type": "markdown",
   "metadata": {},
   "source": [
    "Für curser vervielfachen: ctrl+alt und (Pfeiltaste nach unten)\n",
    "shift+alt+f um formatieren"
   ]
  }
 ],
 "metadata": {
  "kernelspec": {
   "display_name": "Python 3",
   "language": "python",
   "name": "python3"
  },
  "language_info": {
   "codemirror_mode": {
    "name": "ipython",
    "version": 3
   },
   "file_extension": ".py",
   "mimetype": "text/x-python",
   "name": "python",
   "nbconvert_exporter": "python",
   "pygments_lexer": "ipython3",
   "version": "3.12.1"
  }
 },
 "nbformat": 4,
 "nbformat_minor": 2
}
