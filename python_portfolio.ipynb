{
 "cells": [
  {
   "cell_type": "markdown",
   "metadata": {},
   "source": [
    "## Try und Exept"
   ]
  },
  {
   "cell_type": "code",
   "execution_count": null,
   "metadata": {},
   "outputs": [],
   "source": [
    "while True:\n",
    "    try:\n",
    "        zaehler = float(input(\"Gib den Nenner der Division ein.\"))\n",
    "        nenner = float(input(\"Gib den Zähler der Division ein.\"))\n",
    "        print(\"Quotient: \",zaehler/nenner)\n",
    "        break\n",
    "    except ValueError:\n",
    "        print('Nur Zahlen sind dividier bar')\n",
    "        print('Versuch es noch einmal')\n",
    "    except ZeroDivisionError:\n",
    "        print('Divison ist nicht möglich durch 0')\n",
    "        print('Versuch es noch einmal')"
   ]
  },
  {
   "cell_type": "markdown",
   "metadata": {},
   "source": [
    "Hier wird eine Unendlicheschleife erstellt. Falls beispielsweise mit null dividiert wird, geht das Prgogramm auf *exept ZeroDivisionError*. Danach wird unter *exept ZeroDivisionError* die Fehlermeldung ausgegeben. Weil das ganze in einer While-schleife ist, wird nach der Fehlermeldung wieder bei try begonnen.(Version 1)"
   ]
  },
  {
   "cell_type": "code",
   "execution_count": null,
   "metadata": {},
   "outputs": [],
   "source": [
    "while True:\n",
    "    try:\n",
    "        zaehler = float(input(\"Gib den Nenner der Division ein.\"))\n",
    "        nenner = float(input(\"Gib den Zähler der Division ein.\"))\n",
    "        print(f\"Die Division {zaehler} durch {nenner} ergibt {zaehler/nenner} \")\n",
    "        break\n",
    "    except ValueError:\n",
    "        print('Nur Zahlen sind dividier bar')\n",
    "        print('Versuch es noch einmal')\n",
    "    except ZeroDivisionError:\n",
    "        print('Divison ist nicht möglich durch 0')\n",
    "        print('Versuch es noch einmal')"
   ]
  },
  {
   "cell_type": "markdown",
   "metadata": {},
   "source": [
    "Hier der Selbe Code jedoch mit einer schöneren Darstellung.(Version 2)"
   ]
  },
  {
   "cell_type": "code",
   "execution_count": null,
   "metadata": {},
   "outputs": [],
   "source": [
    "while True:\n",
    "    try:\n",
    "        zaehler = float(input(\"Gib den Nenner der Division ein.\"))\n",
    "        nenner = float(input(\"Gib den Zähler der Division ein.\"))\n",
    "        print(f\"Die Division {zaehler} durch {nenner} ergibt {zaehler/nenner} \")\n",
    "        break\n",
    "    except ValueError:\n",
    "        print(f'Achtung du hast {zaehler} und {nenner} eingegeben')\n",
    "        print('Jedoch können keine Buchstaben bei einer Division vorkommen')\n",
    "        print('Versuch es noch einmal')\n",
    "    except ZeroDivisionError:\n",
    "        print(f'Achte darauf, dass {zaehler} nicht durch 0 geteilt werden kann')\n",
    "        print('Versuch es noch einmal')"
   ]
  },
  {
   "cell_type": "markdown",
   "metadata": {},
   "source": [
    "Hier ist der gleiche Code jedoch mit einer Rückmeldung. (Version 3)"
   ]
  },
  {
   "cell_type": "code",
   "execution_count": 7,
   "metadata": {},
   "outputs": [
    {
     "name": "stdout",
     "output_type": "stream",
     "text": [
      "Die Zahl ist kleiner als 4\n",
      "Du hast die Zahl nicht erraten\n",
      "Die Zahl ist grösser als 2\n",
      "Du hast die Zahl nicht erraten\n",
      "-------------------------------\n",
      "Du hast die Zahl erraten\n",
      "Die Zahl war 3\n",
      "Du hast 2 benötigt\n"
     ]
    }
   ],
   "source": [
    "import random\n",
    "zahl = random.randint(0, 5)\n",
    "anzahl_versuche=0\n",
    "print('----------------------------------')\n",
    "print('Level 1')\n",
    "print('----------------------------------')\n",
    "while True:\n",
    "    try:\n",
    "        versuch=int(input('Was denkst du ist die Zahl?'))\n",
    "        if versuch==zahl:\n",
    "            print('-------------------------------')\n",
    "            print(f'Du hast die Zahl erraten')\n",
    "            print(f'Die Zahl war {zahl}')\n",
    "            print(f'Du hast {anzahl_versuche} benötigt')\n",
    "            break\n",
    "        elif versuch<zahl:\n",
    "            print(f'Die Zahl ist grösser als {versuch}')\n",
    "            print('Du hast die Zahl nicht erraten')\n",
    "            anzahl_versuche+=1\n",
    "        elif versuch>zahl:\n",
    "            print(f'Die Zahl ist kleiner als {versuch}')\n",
    "            print('Du hast die Zahl nicht erraten')\n",
    "            anzahl_versuche+=1\n",
    "    except ValueError:\n",
    "        print('Achtung verwende keine Buchstaben!')\n",
    "if anzahl_versuche<=0:\n",
    "    print('----------------------------------')\n",
    "    print('Level 2')\n",
    "    print('----------------------------------')\n",
    "    zahl = random.randint(0, 10)\n",
    "    anzahl_versuche=0\n",
    "    while True:\n",
    "        try:\n",
    "            versuch=int(input('Was denkst du ist die Zahl?'))\n",
    "            if versuch==zahl:\n",
    "                print('-------------------------------')\n",
    "                print(f'Du hast die Zahl erraten')\n",
    "                print(f'Die Zahl war {zahl}')\n",
    "                print(f'Du hast {anzahl_versuche} benötigt')\n",
    "                break\n",
    "            elif versuch<zahl:\n",
    "                print(f'Die Zahl ist grösser als {versuch}')\n",
    "                print('Du hast die Zahl nicht erraten')\n",
    "                anzahl_versuche+=1\n",
    "            elif versuch>zahl:\n",
    "                print(f'Die Zahl ist kleiner als {versuch}')\n",
    "                print('Du hast die Zahl nicht erraten')\n",
    "                anzahl_versuche+=1\n",
    "        except ValueError:\n",
    "            print('Achtung verwende keine Buchstaben!')"
   ]
  },
  {
   "cell_type": "markdown",
   "metadata": {},
   "source": [
    "Hier ist ein kleines Zahlenratespiel"
   ]
  }
 ],
 "metadata": {
  "kernelspec": {
   "display_name": "Python 3",
   "language": "python",
   "name": "python3"
  },
  "language_info": {
   "codemirror_mode": {
    "name": "ipython",
    "version": 3
   },
   "file_extension": ".py",
   "mimetype": "text/x-python",
   "name": "python",
   "nbconvert_exporter": "python",
   "pygments_lexer": "ipython3",
   "version": "3.12.1"
  }
 },
 "nbformat": 4,
 "nbformat_minor": 2
}
